{
 "cells": [
  {
   "cell_type": "code",
   "execution_count": 1,
   "id": "e41e947d",
   "metadata": {},
   "outputs": [],
   "source": [
    "import ipywidgets as widgets\n",
    "from IPython.display import display"
   ]
  },
  {
   "cell_type": "code",
   "execution_count": 2,
   "id": "41ef1e20",
   "metadata": {},
   "outputs": [
    {
     "data": {
      "application/vnd.jupyter.widget-view+json": {
       "model_id": "6449058a611e4a09a94c042c6b7edf7e",
       "version_major": 2,
       "version_minor": 0
      },
      "text/plain": [
       "Button(description='Click Me', style=ButtonStyle())"
      ]
     },
     "metadata": {},
     "output_type": "display_data"
    }
   ],
   "source": [
    "button=widgets.Button(description=\"Click Me\")\n",
    "display(button)\n",
    "\n",
    "#button.on_click(lambda x: print(\"Button clicked!\"))\n",
    "click_counter = {'count': 0}\n",
    "\n",
    "def on_button_clicked(b):\n",
    "    click_counter['count'] += 1\n",
    "    b.description = f\"Clicked {click_counter['count']}\"\n",
    "\n",
    "button.on_click(on_button_clicked)"
   ]
  },
  {
   "cell_type": "code",
   "execution_count": 3,
   "id": "85aad42a",
   "metadata": {},
   "outputs": [
    {
     "data": {
      "application/vnd.jupyter.widget-view+json": {
       "model_id": "dc48437870c64b8bbd8d289e609d3165",
       "version_major": 2,
       "version_minor": 0
      },
      "text/plain": [
       "Text(value='', description='Text:')"
      ]
     },
     "metadata": {},
     "output_type": "display_data"
    }
   ],
   "source": [
    "text=widgets.Text(value='',description='Text:')\n",
    "display(text)\n",
    "def on_text_change(change):\n",
    "    print(f\"Text changed to: {change['new']}\")\n",
    "    \n",
    "text.observe(on_text_change,names='value')"
   ]
  },
  {
   "cell_type": "code",
   "execution_count": null,
   "id": "8e4a22b4",
   "metadata": {},
   "outputs": [
    {
     "data": {
      "application/vnd.jupyter.widget-view+json": {
       "model_id": "0c9588e8a8b540df86da7d9091410ce3",
       "version_major": 2,
       "version_minor": 0
      },
      "text/plain": [
       "Text(value='', description='Input:')"
      ]
     },
     "metadata": {},
     "output_type": "display_data"
    },
    {
     "data": {
      "application/vnd.jupyter.widget-view+json": {
       "model_id": "1cecaf731de14ce385bd6679b2d3af7c",
       "version_major": 2,
       "version_minor": 0
      },
      "text/plain": [
       "Button(description='Show Text', style=ButtonStyle())"
      ]
     },
     "metadata": {},
     "output_type": "display_data"
    },
    {
     "data": {
      "application/vnd.jupyter.widget-view+json": {
       "model_id": "039f9e280eac43919291e45c87aae233",
       "version_major": 2,
       "version_minor": 0
      },
      "text/plain": [
       "Text(value='', description='Output:')"
      ]
     },
     "metadata": {},
     "output_type": "display_data"
    }
   ],
   "source": [
    "\n",
    "\n",
    "# Input text box\n",
    "input_text = widgets.Text(value='', description='Input:')\n",
    "display(input_text)\n",
    "\n",
    "# Output text box (initially empty)\n",
    "output_text = widgets.Text(value='', description='Output:')\n",
    "\n",
    "\n",
    "# Button\n",
    "button = widgets.Button(description=\"Show Text\")\n",
    "display(button)\n",
    "\n",
    "def on_button_clicked(b):\n",
    "    display(output_text)\n",
    "    output_text.value = input_text.value  # Set output text to input text\n",
    "\n",
    "button.on_click(on_button_clicked)"
   ]
  },
  {
   "cell_type": "code",
   "execution_count": 7,
   "id": "fa71881e",
   "metadata": {},
   "outputs": [
    {
     "data": {
      "application/vnd.jupyter.widget-view+json": {
       "model_id": "5f93f5695a244ca78cda75ab1af3537f",
       "version_major": 2,
       "version_minor": 0
      },
      "text/plain": [
       "Dropdown(description='Dropdown:', options=('Option 1', 'Option 2', 'Option 3'), value='Option 1')"
      ]
     },
     "metadata": {},
     "output_type": "display_data"
    },
    {
     "data": {
      "application/vnd.jupyter.widget-view+json": {
       "model_id": "f823cbc4c75d4d8183e2d0739b2cc591",
       "version_major": 2,
       "version_minor": 0
      },
      "text/plain": [
       "Button(description='Show Selected Option', style=ButtonStyle())"
      ]
     },
     "metadata": {},
     "output_type": "display_data"
    },
    {
     "data": {
      "application/vnd.jupyter.widget-view+json": {
       "model_id": "78463274562e4022b54e0db0afb69377",
       "version_major": 2,
       "version_minor": 0
      },
      "text/plain": [
       "Text(value='Option 2', description='Selected:')"
      ]
     },
     "metadata": {},
     "output_type": "display_data"
    }
   ],
   "source": [
    "\n",
    "\n",
    "# Dropdown widget\n",
    "dropdown = widgets.Dropdown(\n",
    "    options=['Option 1', 'Option 2', 'Option 3'],\n",
    "    value='Option 1',\n",
    "    description='Dropdown:',\n",
    ")\n",
    "display(dropdown)\n",
    "\n",
    "# Output text box (initially empty)\n",
    "output_text = widgets.Text(value='', description='Selected:')\n",
    "\n",
    "# Button\n",
    "button = widgets.Button(description=\"Show Selected Option\")\n",
    "display(button)\n",
    "\n",
    "def on_button_clicked(b):\n",
    "    output_text.value = dropdown.value  # Set output text to selected dropdown value\n",
    "    display(output_text)  # Display the output text box\n",
    "\n",
    "button.on_click(on_button_clicked)"
   ]
  },
  {
   "cell_type": "code",
   "execution_count": null,
   "id": "4f2de9a0",
   "metadata": {},
   "outputs": [
    {
     "data": {
      "application/vnd.jupyter.widget-view+json": {
       "model_id": "0f945126c54f41bba89c7072287257e8",
       "version_major": 2,
       "version_minor": 0
      },
      "text/plain": [
       "Text(value='', description='Name:')"
      ]
     },
     "metadata": {},
     "output_type": "display_data"
    },
    {
     "data": {
      "application/vnd.jupyter.widget-view+json": {
       "model_id": "4fd55d8a2e6b498f86b788f439bf972d",
       "version_major": 2,
       "version_minor": 0
      },
      "text/plain": [
       "Dropdown(description='Dropdown2:', options=('male', 'female', 'others'), value='male')"
      ]
     },
     "metadata": {},
     "output_type": "display_data"
    },
    {
     "data": {
      "application/vnd.jupyter.widget-view+json": {
       "model_id": "b7b95e0185a044939da3d98057a42e60",
       "version_major": 2,
       "version_minor": 0
      },
      "text/plain": [
       "Button(description='Greet', style=ButtonStyle())"
      ]
     },
     "metadata": {},
     "output_type": "display_data"
    },
    {
     "data": {
      "application/vnd.jupyter.widget-view+json": {
       "model_id": "0568747e26ec447ea502670616999139",
       "version_major": 2,
       "version_minor": 0
      },
      "text/plain": [
       "Text(value='female', description='gender:')"
      ]
     },
     "metadata": {},
     "output_type": "display_data"
    },
    {
     "data": {
      "application/vnd.jupyter.widget-view+json": {
       "model_id": "95b661a6163f44bd86c661c0acc3e0e6",
       "version_major": 2,
       "version_minor": 0
      },
      "text/plain": [
       "Text(value='Hello, anif female!', description='Greeting:')"
      ]
     },
     "metadata": {},
     "output_type": "display_data"
    }
   ],
   "source": [
    "name=widgets.Text(value='',description='Name:')\n",
    "button=widgets.Button(description='Greet')\n",
    "output=widgets.Text(value='',description='Greeting:')\n",
    "gender=widgets.Text(value='',description='gender:')\n",
    "dropdown2=widgets.Dropdown(options=['male','female','others'],value='male',description='Dropdown2:')\n",
    "def on_button_clicked(b):\n",
    "    output.value=f'Hello, {name.value}!'\n",
    "    gender.value=dropdown2.value\n",
    "    display(gender)\n",
    "    display(output)\n",
    "button.on_click(on_button_clicked)\n",
    "display(name,dropdown2,button)\n",
    "\n"
   ]
  },
  {
   "cell_type": "code",
   "execution_count": 14,
   "id": "f58e031f",
   "metadata": {},
   "outputs": [
    {
     "name": "stdout",
     "output_type": "stream",
     "text": [
      "{'name:': 'anif', 'gender:': 'female'}\n"
     ]
    }
   ],
   "source": [
    "a={'name:':name.value,'gender:':dropdown2.value}\n",
    "print(a)"
   ]
  }
 ],
 "metadata": {
  "kernelspec": {
   "display_name": "Python 3",
   "language": "python",
   "name": "python3"
  },
  "language_info": {
   "codemirror_mode": {
    "name": "ipython",
    "version": 3
   },
   "file_extension": ".py",
   "mimetype": "text/x-python",
   "name": "python",
   "nbconvert_exporter": "python",
   "pygments_lexer": "ipython3",
   "version": "3.11.4"
  }
 },
 "nbformat": 4,
 "nbformat_minor": 5
}
