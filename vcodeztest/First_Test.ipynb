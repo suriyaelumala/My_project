{
 "cells": [
  {
   "cell_type": "markdown",
   "id": "114b535d",
   "metadata": {},
   "source": [
    "# list is started from here"
   ]
  },
  {
   "cell_type": "code",
   "execution_count": 2,
   "id": "71535195",
   "metadata": {},
   "outputs": [
    {
     "name": "stdout",
     "output_type": "stream",
     "text": [
      "first element is 1,last element is 5\n"
     ]
    }
   ],
   "source": [
    "list1=[1,2,3,4,5]\n",
    "print(f\"first element is {list1[0]},last element is {list1[-1]}\")"
   ]
  },
  {
   "cell_type": "code",
   "execution_count": 3,
   "id": "cef442a7",
   "metadata": {},
   "outputs": [
    {
     "data": {
      "text/plain": [
       "[10, 20, 30, 40, 50]"
      ]
     },
     "execution_count": 3,
     "metadata": {},
     "output_type": "execute_result"
    }
   ],
   "source": [
    "nums = [10, 20, 30, 40]\n",
    "nums.append(50)\n",
    "nums"
   ]
  },
  {
   "cell_type": "code",
   "execution_count": 5,
   "id": "00bf995a",
   "metadata": {},
   "outputs": [
    {
     "data": {
      "text/plain": [
       "['banana', 'cherry', 'apple', 'mango']"
      ]
     },
     "execution_count": 5,
     "metadata": {},
     "output_type": "execute_result"
    }
   ],
   "source": [
    "fruits = [\"banana\",\"cherry\",\"mango\"]\n",
    "fruits.insert(2,\"apple\")\n",
    "fruits"
   ]
  },
  {
   "cell_type": "code",
   "execution_count": 7,
   "id": "adab5b11",
   "metadata": {},
   "outputs": [
    {
     "data": {
      "text/plain": [
       "[3, 4, 5]"
      ]
     },
     "execution_count": 7,
     "metadata": {},
     "output_type": "execute_result"
    }
   ],
   "source": [
    "list2=[2, 3, 2, 4, 2, 5]\n",
    "for i in list2:\n",
    "    list2.remove(2)\n",
    "list2"
   ]
  },
  {
   "cell_type": "code",
   "execution_count": 8,
   "id": "6feec55d",
   "metadata": {},
   "outputs": [
    {
     "data": {
      "text/plain": [
       "[5, 4, 3, 2, 1]"
      ]
     },
     "execution_count": 8,
     "metadata": {},
     "output_type": "execute_result"
    }
   ],
   "source": [
    "list3=[1,2,3,4,5]\n",
    "list3[::-1]"
   ]
  },
  {
   "cell_type": "code",
   "execution_count": 16,
   "id": "5fe55590",
   "metadata": {},
   "outputs": [
    {
     "data": {
      "text/plain": [
       "[1, 2, 3, 4, 5, 6]"
      ]
     },
     "execution_count": 16,
     "metadata": {},
     "output_type": "execute_result"
    }
   ],
   "source": [
    "a = [1, 2, 3]\n",
    "b = [4, 5, 6]\n",
    "a.extend(b)\n",
    "a"
   ]
  },
  {
   "cell_type": "code",
   "execution_count": 17,
   "id": "b130ce68",
   "metadata": {},
   "outputs": [
    {
     "name": "stdout",
     "output_type": "stream",
     "text": [
      "max in list4 is 9 and min in list4 is 1\n"
     ]
    }
   ],
   "source": [
    "list4=[3, 6, 2, 9, 1]\n",
    "print(f\"max in list4 is {max(list4)} and min in list4 is {min(list4)}\")"
   ]
  },
  {
   "cell_type": "code",
   "execution_count": 18,
   "id": "bc12cde1",
   "metadata": {},
   "outputs": [
    {
     "data": {
      "text/plain": [
       "[2, 3, 4, 5]"
      ]
     },
     "execution_count": 18,
     "metadata": {},
     "output_type": "execute_result"
    }
   ],
   "source": [
    "list5=[2, 3, 2, 4, 2, 5, 4, 3]\n",
    "out_put=list(dict.fromkeys(list5))\n",
    "out_put"
   ]
  },
  {
   "cell_type": "markdown",
   "id": "0927aa3b",
   "metadata": {},
   "source": [
    "# Tuples is started form here"
   ]
  },
  {
   "cell_type": "code",
   "execution_count": 20,
   "id": "5772d059",
   "metadata": {},
   "outputs": [
    {
     "name": "stdout",
     "output_type": "stream",
     "text": [
      "The length of tuple1 is 4\n"
     ]
    }
   ],
   "source": [
    "tuple1=(\"red\",\"blue\",\"Yellow\",\"green\")\n",
    "count=0\n",
    "for i in tuple1:\n",
    "    count+=1\n",
    "print(f\"The length of tuple1 is {count}\")"
   ]
  },
  {
   "cell_type": "code",
   "execution_count": null,
   "id": "c8668491",
   "metadata": {},
   "outputs": [],
   "source": []
  }
 ],
 "metadata": {
  "kernelspec": {
   "display_name": "Python 3",
   "language": "python",
   "name": "python3"
  },
  "language_info": {
   "codemirror_mode": {
    "name": "ipython",
    "version": 3
   },
   "file_extension": ".py",
   "mimetype": "text/x-python",
   "name": "python",
   "nbconvert_exporter": "python",
   "pygments_lexer": "ipython3",
   "version": "3.11.4"
  }
 },
 "nbformat": 4,
 "nbformat_minor": 5
}
