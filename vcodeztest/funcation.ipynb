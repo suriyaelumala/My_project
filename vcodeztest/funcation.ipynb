{
 "cells": [
  {
   "cell_type": "code",
   "execution_count": 2,
   "id": "f50570ce",
   "metadata": {},
   "outputs": [
    {
     "name": "stdout",
     "output_type": "stream",
     "text": [
      "[1, 0, 4, 6, 7, 2, 3]\n"
     ]
    }
   ],
   "source": [
    "def dup(lis):\n",
    "    mtlist=[]\n",
    "    for i in lis:\n",
    "        if i not in mtlist:\n",
    "            mtlist.append(i)\n",
    "    return mtlist\n",
    "print(dup([1,1,0,4,4,6,7,2,3,4,3,2,1]))"
   ]
  },
  {
   "cell_type": "code",
   "execution_count": null,
   "id": "76ecdd93",
   "metadata": {},
   "outputs": [],
   "source": []
  },
  {
   "cell_type": "code",
   "execution_count": null,
   "id": "bf9f67c0",
   "metadata": {},
   "outputs": [
    {
     "name": "stdout",
     "output_type": "stream",
     "text": [
      "hello 3\n"
     ]
    }
   ],
   "source": [
    "print(3%5)"
   ]
  },
  {
   "cell_type": "code",
   "execution_count": 24,
   "id": "f4d73205",
   "metadata": {},
   "outputs": [
    {
     "name": "stdout",
     "output_type": "stream",
     "text": [
      "[3, 4, 5, 1, 2]\n"
     ]
    }
   ],
   "source": [
    "def rotate(arr,k):\n",
    "    k=k%len(arr)\n",
    "    return arr[k:]+arr[:k]\n",
    "print(rotate([1,2,3,4,5],2))"
   ]
  },
  {
   "cell_type": "code",
   "execution_count": 29,
   "id": "7e53afc3",
   "metadata": {},
   "outputs": [
    {
     "name": "stdout",
     "output_type": "stream",
     "text": [
      "11\n",
      "66.0\n",
      "56\n",
      "10\n"
     ]
    }
   ],
   "source": [
    "arr=[1,2,3,4,5,6,7,8,9,11]\n",
    "n=len(arr)+1\n",
    "print(n)\n",
    "t=n*(n+1)/2\n",
    "print(t)\n",
    "s=sum(arr)\n",
    "print(s)\n",
    "print(int(t-s))"
   ]
  },
  {
   "cell_type": "code",
   "execution_count": 2,
   "id": "936a786a",
   "metadata": {},
   "outputs": [
    {
     "name": "stdout",
     "output_type": "stream",
     "text": [
      "not seen: [1, 2]\n",
      "[1, 2, 3, 4]\n"
     ]
    }
   ],
   "source": [
    "def dup(li):\n",
    "    seen=[]\n",
    "    not_seen=[]\n",
    "    for i in li:\n",
    "        if i not in seen:\n",
    "            seen.append(i)\n",
    "        elif i in seen:\n",
    "            not_seen.append(i)\n",
    "    not_seen.sort()\n",
    "    print(\"not seen:\",not_seen)\n",
    "\n",
    "    return seen\n",
    "print(dup([1,2,3,2,1,4]))"
   ]
  },
  {
   "cell_type": "code",
   "execution_count": 6,
   "id": "2a546686",
   "metadata": {},
   "outputs": [
    {
     "name": "stdout",
     "output_type": "stream",
     "text": [
      "4\n",
      "12\n"
     ]
    }
   ],
   "source": [
    "def zero(arr):\n",
    "    count=arr.count(0)\n",
    "    for i in range(count):\n",
    "        arr.remove(0)\n",
    "        arr.append(0)\n",
    "    # arr=arr[::-1]\n",
    "    arr=sum(arr)\n",
    "    print(count)\n",
    "    return arr\n",
    "arr=[1,0,2,0,4,0,5,0]\n",
    "print(zero(arr))"
   ]
  },
  {
   "cell_type": "code",
   "execution_count": 7,
   "id": "519bbb23",
   "metadata": {},
   "outputs": [
    {
     "name": "stdout",
     "output_type": "stream",
     "text": [
      "0\n",
      "1\n",
      "2\n",
      "3\n",
      "4\n"
     ]
    }
   ],
   "source": [
    "for i in range(5):\n",
    "    print(i)"
   ]
  },
  {
   "cell_type": "code",
   "execution_count": null,
   "id": "00512df1",
   "metadata": {},
   "outputs": [],
   "source": []
  },
  {
   "cell_type": "code",
   "execution_count": null,
   "id": "7e45baf0",
   "metadata": {},
   "outputs": [],
   "source": []
  },
  {
   "cell_type": "code",
   "execution_count": null,
   "id": "11303862",
   "metadata": {},
   "outputs": [],
   "source": [
    "\n"
   ]
  },
  {
   "cell_type": "code",
   "execution_count": 12,
   "id": "2f31700a",
   "metadata": {},
   "outputs": [
    {
     "name": "stdout",
     "output_type": "stream",
     "text": [
      "{'a': [1, 2, 3], 'b': [4, 5, 6]}\n",
      "   a  b\n",
      "0  1  4\n",
      "1  2  5\n",
      "2  3  6\n"
     ]
    }
   ],
   "source": [
    "import pandas as pd\n",
    "import numpy as np\n",
    "datas={'a':[1,2,3],'b':[4,5,6]}\n",
    "data1= pd.DataFrame(datas)\n",
    "data2=np.array(datas)\n",
    "print(data2)\n",
    "print(data1)"
   ]
  }
 ],
 "metadata": {
  "kernelspec": {
   "display_name": "Python 3",
   "language": "python",
   "name": "python3"
  },
  "language_info": {
   "codemirror_mode": {
    "name": "ipython",
    "version": 3
   },
   "file_extension": ".py",
   "mimetype": "text/x-python",
   "name": "python",
   "nbconvert_exporter": "python",
   "pygments_lexer": "ipython3",
   "version": "3.11.4"
  }
 },
 "nbformat": 4,
 "nbformat_minor": 5
}
