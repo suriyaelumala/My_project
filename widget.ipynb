{
 "cells": [
  {
   "cell_type": "code",
   "execution_count": 1,
   "id": "cd16a929",
   "metadata": {},
   "outputs": [],
   "source": [
    "# Import necessary modules\n",
    "import ipywidgets as widgets\n",
    "from IPython.display import display\n",
    "\n"
   ]
  },
  {
   "cell_type": "code",
   "execution_count": 2,
   "id": "26d28724",
   "metadata": {},
   "outputs": [
    {
     "data": {
      "application/vnd.jupyter.widget-view+json": {
       "model_id": "9bffaf6ae6cd47c8908012ea75849327",
       "version_major": 2,
       "version_minor": 0
      },
      "text/plain": [
       "Button(description='Click Me', style=ButtonStyle())"
      ]
     },
     "metadata": {},
     "output_type": "display_data"
    },
    {
     "data": {
      "application/vnd.jupyter.widget-view+json": {
       "model_id": "4900944a2dd341e4b36763654d642711",
       "version_major": 2,
       "version_minor": 0
      },
      "text/plain": [
       "Text(value='Hello', description='Text:')"
      ]
     },
     "metadata": {},
     "output_type": "display_data"
    },
    {
     "data": {
      "application/vnd.jupyter.widget-view+json": {
       "model_id": "135bc04993f64244816c3ca761004805",
       "version_major": 2,
       "version_minor": 0
      },
      "text/plain": [
       "IntSlider(value=5, description='Slider:', max=10)"
      ]
     },
     "metadata": {},
     "output_type": "display_data"
    },
    {
     "data": {
      "application/vnd.jupyter.widget-view+json": {
       "model_id": "45d9fe61d09b4310a92cd0721fc704f1",
       "version_major": 2,
       "version_minor": 0
      },
      "text/plain": [
       "Dropdown(description='Dropdown:', options=('Option 1', 'Option 2', 'Option 3'), value='Option 1')"
      ]
     },
     "metadata": {},
     "output_type": "display_data"
    },
    {
     "data": {
      "application/vnd.jupyter.widget-view+json": {
       "model_id": "9196ecbf85ee41e7ba9a4993522348ee",
       "version_major": 2,
       "version_minor": 0
      },
      "text/plain": [
       "Checkbox(value=False, description='Check me')"
      ]
     },
     "metadata": {},
     "output_type": "display_data"
    },
    {
     "data": {
      "application/vnd.jupyter.widget-view+json": {
       "model_id": "d60ed98b6a3f414eb9badd3c073686a1",
       "version_major": 2,
       "version_minor": 0
      },
      "text/plain": [
       "RadioButtons(description='Radio:', options=('A', 'B', 'C'), value='A')"
      ]
     },
     "metadata": {},
     "output_type": "display_data"
    },
    {
     "data": {
      "application/vnd.jupyter.widget-view+json": {
       "model_id": "90dc9c1fe47c46ba9bc68ccdc1133898",
       "version_major": 2,
       "version_minor": 0
      },
      "text/plain": [
       "Output()"
      ]
     },
     "metadata": {},
     "output_type": "display_data"
    },
    {
     "data": {
      "application/vnd.jupyter.widget-view+json": {
       "model_id": "290b1d4c9bb54be78da3e41fc02f0b09",
       "version_major": 2,
       "version_minor": 0
      },
      "text/plain": [
       "HBox(children=(Button(description='Click Me', style=ButtonStyle()), Text(value='Hello', description='Text:')))"
      ]
     },
     "metadata": {},
     "output_type": "display_data"
    },
    {
     "data": {
      "application/vnd.jupyter.widget-view+json": {
       "model_id": "91754f23bc0d4c50a991806284aa848e",
       "version_major": 2,
       "version_minor": 0
      },
      "text/plain": [
       "VBox(children=(IntSlider(value=5, description='Slider:', max=10), Dropdown(description='Dropdown:', options=('…"
      ]
     },
     "metadata": {},
     "output_type": "display_data"
    }
   ],
   "source": [
    "# 1. Button\n",
    "button = widgets.Button(description=\"Click Me\")\n",
    "display(button)\n",
    "\n",
    "def on_button_clicked(b):\n",
    "    print(\"Button clicked!\")\n",
    "\n",
    "button.on_click(on_button_clicked)\n",
    "\n",
    "# 2. Text Input\n",
    "text = widgets.Text(\n",
    "    value='Hello',\n",
    "    description='Text:',\n",
    ")\n",
    "display(text)\n",
    "\n",
    "def on_text_change(change):\n",
    "    print(f\"Text changed to: {change['new']}\")\n",
    "\n",
    "text.observe(on_text_change, names='value')\n",
    "\n",
    "# 3. IntSlider\n",
    "slider = widgets.IntSlider(\n",
    "    value=5,\n",
    "    min=0,\n",
    "    max=10,\n",
    "    step=1,\n",
    "    description='Slider:',\n",
    ")\n",
    "display(slider)\n",
    "\n",
    "# 4. Dropdown\n",
    "dropdown = widgets.Dropdown(\n",
    "    options=['Option 1', 'Option 2', 'Option 3'],\n",
    "    value='Option 1',\n",
    "    description='Dropdown:',\n",
    ")\n",
    "display(dropdown)\n",
    "\n",
    "# 5. Checkbox\n",
    "checkbox = widgets.Checkbox(\n",
    "    value=False,\n",
    "    description='Check me',\n",
    ")\n",
    "display(checkbox)\n",
    "\n",
    "# 6. RadioButtons\n",
    "radio = widgets.RadioButtons(\n",
    "    options=['A', 'B', 'C'],\n",
    "    description='Radio:',\n",
    ")\n",
    "display(radio)\n",
    "\n",
    "# 7. Output widget (for displaying output)\n",
    "output = widgets.Output()\n",
    "display(output)\n",
    "\n",
    "with output:\n",
    "    print(\"This is output inside the Output widget.\")\n",
    "\n",
    "# 8. HBox and VBox (layout)\n",
    "hbox = widgets.HBox([button, text])\n",
    "vbox = widgets.VBox([slider, dropdown])\n",
    "display(hbox, vbox)"
   ]
  }
 ],
 "metadata": {
  "kernelspec": {
   "display_name": "Python 3",
   "language": "python",
   "name": "python3"
  },
  "language_info": {
   "codemirror_mode": {
    "name": "ipython",
    "version": 3
   },
   "file_extension": ".py",
   "mimetype": "text/x-python",
   "name": "python",
   "nbconvert_exporter": "python",
   "pygments_lexer": "ipython3",
   "version": "3.11.4"
  }
 },
 "nbformat": 4,
 "nbformat_minor": 5
}
