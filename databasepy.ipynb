{
 "cells": [
  {
   "cell_type": "code",
   "execution_count": 24,
   "id": "17338710",
   "metadata": {},
   "outputs": [],
   "source": [
    "import pandas as pd\n"
   ]
  },
  {
   "cell_type": "code",
   "execution_count": 25,
   "id": "d3a0132b",
   "metadata": {},
   "outputs": [
    {
     "name": "stdout",
     "output_type": "stream",
     "text": [
      "Requirement already satisfied: pymongo in c:\\users\\eatsk\\appdata\\local\\programs\\python\\python311\\lib\\site-packages (4.15.1)\n",
      "Requirement already satisfied: dnspython<3.0.0,>=1.16.0 in c:\\users\\eatsk\\appdata\\local\\programs\\python\\python311\\lib\\site-packages (from pymongo) (2.8.0)\n",
      "Note: you may need to restart the kernel to use updated packages.\n"
     ]
    }
   ],
   "source": [
    "pip install pymongo"
   ]
  },
  {
   "cell_type": "code",
   "execution_count": 26,
   "id": "b77539ae",
   "metadata": {},
   "outputs": [],
   "source": [
    "from pymongo import MongoClient\n"
   ]
  },
  {
   "cell_type": "code",
   "execution_count": null,
   "id": "42834590",
   "metadata": {},
   "outputs": [],
   "source": []
  },
  {
   "cell_type": "code",
   "execution_count": 27,
   "id": "9fdab0fd",
   "metadata": {},
   "outputs": [
    {
     "data": {
      "text/html": [
       "<div>\n",
       "<style scoped>\n",
       "    .dataframe tbody tr th:only-of-type {\n",
       "        vertical-align: middle;\n",
       "    }\n",
       "\n",
       "    .dataframe tbody tr th {\n",
       "        vertical-align: top;\n",
       "    }\n",
       "\n",
       "    .dataframe thead th {\n",
       "        text-align: right;\n",
       "    }\n",
       "</style>\n",
       "<table border=\"1\" class=\"dataframe\">\n",
       "  <thead>\n",
       "    <tr style=\"text-align: right;\">\n",
       "      <th></th>\n",
       "      <th>Yeare</th>\n",
       "      <th>Income</th>\n",
       "    </tr>\n",
       "  </thead>\n",
       "  <tbody>\n",
       "    <tr>\n",
       "      <th>0</th>\n",
       "      <td>2001</td>\n",
       "      <td>100</td>\n",
       "    </tr>\n",
       "    <tr>\n",
       "      <th>1</th>\n",
       "      <td>2002</td>\n",
       "      <td>200</td>\n",
       "    </tr>\n",
       "    <tr>\n",
       "      <th>2</th>\n",
       "      <td>2003</td>\n",
       "      <td>366</td>\n",
       "    </tr>\n",
       "    <tr>\n",
       "      <th>3</th>\n",
       "      <td>2004</td>\n",
       "      <td>475</td>\n",
       "    </tr>\n",
       "    <tr>\n",
       "      <th>4</th>\n",
       "      <td>2005</td>\n",
       "      <td>505</td>\n",
       "    </tr>\n",
       "    <tr>\n",
       "      <th>5</th>\n",
       "      <td>2006</td>\n",
       "      <td>404</td>\n",
       "    </tr>\n",
       "    <tr>\n",
       "      <th>6</th>\n",
       "      <td>2007</td>\n",
       "      <td>550</td>\n",
       "    </tr>\n",
       "  </tbody>\n",
       "</table>\n",
       "</div>"
      ],
      "text/plain": [
       "   Yeare  Income\n",
       "0   2001     100\n",
       "1   2002     200\n",
       "2   2003     366\n",
       "3   2004     475\n",
       "4   2005     505\n",
       "5   2006     404\n",
       "6   2007     550"
      ]
     },
     "execution_count": 27,
     "metadata": {},
     "output_type": "execute_result"
    }
   ],
   "source": [
    "df=pd.read_csv('Book2.csv')\n",
    "df"
   ]
  },
  {
   "cell_type": "code",
   "execution_count": 28,
   "id": "7a4d8703",
   "metadata": {},
   "outputs": [],
   "source": [
    "client=MongoClient(\"mongodb://localhost:27017/\")\n",
    "db=client['csvdatabase']\n",
    "users=db['Users']"
   ]
  },
  {
   "cell_type": "code",
   "execution_count": null,
   "id": "16f31099",
   "metadata": {},
   "outputs": [
    {
     "data": {
      "text/plain": [
       "InsertManyResult([ObjectId('68d3b270deafad3340244d9e'), ObjectId('68d3b270deafad3340244d9f'), ObjectId('68d3b270deafad3340244da0'), ObjectId('68d3b270deafad3340244da1'), ObjectId('68d3b270deafad3340244da2'), ObjectId('68d3b270deafad3340244da3'), ObjectId('68d3b270deafad3340244da4')], acknowledged=True)"
      ]
     },
     "execution_count": 29,
     "metadata": {},
     "output_type": "execute_result"
    }
   ],
   "source": [
    "data_to_insert=df.to_dict(orient='records')\n",
    "users.insert_many(data_to_insert)\n"
   ]
  },
  {
   "cell_type": "code",
   "execution_count": 34,
   "id": "604f22d8",
   "metadata": {},
   "outputs": [
    {
     "name": "stdout",
     "output_type": "stream",
     "text": [
      "{'_id': ObjectId('68d3b1f2deafad3340244d96'), 'Yeare': 2001, 'Income': 100}\n",
      "{'_id': ObjectId('68d3b1f2deafad3340244d97'), 'Yeare': 2002, 'Income': 200}\n",
      "{'_id': ObjectId('68d3b1f2deafad3340244d98'), 'Yeare': 2003, 'Income': 366}\n",
      "{'_id': ObjectId('68d3b1f2deafad3340244d99'), 'Yeare': 2004, 'Income': 475}\n",
      "{'_id': ObjectId('68d3b1f2deafad3340244d9a'), 'Yeare': 2005, 'Income': 505}\n",
      "{'_id': ObjectId('68d3b1f2deafad3340244d9b'), 'Yeare': 2006, 'Income': 404}\n",
      "{'_id': ObjectId('68d3b1f2deafad3340244d9c'), 'Yeare': 2007, 'Income': 550}\n",
      "{'_id': ObjectId('68d3b270deafad3340244d9e'), 'Yeare': 2001, 'Income': 100}\n",
      "{'_id': ObjectId('68d3b270deafad3340244d9f'), 'Yeare': 2002, 'Income': 200}\n",
      "{'_id': ObjectId('68d3b270deafad3340244da0'), 'Yeare': 2003, 'Income': 366}\n",
      "{'_id': ObjectId('68d3b270deafad3340244da1'), 'Yeare': 2004, 'Income': 475}\n",
      "{'_id': ObjectId('68d3b270deafad3340244da2'), 'Yeare': 2005, 'Income': 505}\n",
      "{'_id': ObjectId('68d3b270deafad3340244da3'), 'Yeare': 2006, 'Income': 404}\n",
      "{'_id': ObjectId('68d3b270deafad3340244da4'), 'Yeare': 2007, 'Income': 550}\n"
     ]
    }
   ],
   "source": [
    "for user in users.find():\n",
    "    print(user)"
   ]
  },
  {
   "cell_type": "code",
   "execution_count": null,
   "id": "e1e5c97a",
   "metadata": {},
   "outputs": [],
   "source": []
  },
  {
   "cell_type": "code",
   "execution_count": 35,
   "id": "96bef48c",
   "metadata": {},
   "outputs": [
    {
     "data": {
      "text/plain": [
       "<Axes: xlabel='Yeare'>"
      ]
     },
     "execution_count": 35,
     "metadata": {},
     "output_type": "execute_result"
    },
    {
     "data": {
      "image/png": "[encoded data removed]",
      "text/plain": [
       "<Figure size 640x480 with 1 Axes>"
      ]
     },
     "metadata": {},
     "output_type": "display_data"
    }
   ],
   "source": [
    "df.plot(kind=\"bar\",x='Yeare',y='Income')"
   ]
  }
 ],
 "metadata": {
  "kernelspec": {
   "display_name": "Python 3",
   "language": "python",
   "name": "python3"
  },
  "language_info": {
   "codemirror_mode": {
    "name": "ipython",
    "version": 3
   },
   "file_extension": ".py",
   "mimetype": "text/x-python",
   "name": "python",
   "nbconvert_exporter": "python",
   "pygments_lexer": "ipython3",
   "version": "3.11.4"
  }
 },
 "nbformat": 4,
 "nbformat_minor": 5
}
